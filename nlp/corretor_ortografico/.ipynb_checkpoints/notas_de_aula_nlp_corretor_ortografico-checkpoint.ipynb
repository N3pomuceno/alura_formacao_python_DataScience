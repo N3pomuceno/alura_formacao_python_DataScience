{
 "cells": [
  {
   "cell_type": "markdown",
   "id": "5cf9b950",
   "metadata": {},
   "source": [
    "# Aula 1: Tokenização"
   ]
  },
  {
   "cell_type": "code",
   "execution_count": 1,
   "id": "034e2c35",
   "metadata": {},
   "outputs": [
    {
     "name": "stdout",
     "output_type": "stream",
     "text": [
      "\n",
      "\n",
      "\n",
      "imagem \n",
      "\n",
      "Temos a seguinte classe que representa um usuário no nosso sistema:\n",
      "\n",
      "java\n",
      "\n",
      "Para salvar um novo usuário, várias validações são feitas, como por exemplo: Ver se o nome só contém letras, [**o CPF só números**] e ver se o usuário possui no mínimo 18 anos. Veja o método que faz essa validação:\n",
      "\n",
      "java \n",
      "\n",
      "Suponha agora que eu tenha outra classe, a classe `Produto`, que contém um atributo nome e eu quero fazer a mesma validação que fiz para o nome do usuário: Ver se só contém letras. E aí? Vou\n"
     ]
    }
   ],
   "source": [
    "with open('./dados/artigos.txt',\"r\") as f:\n",
    "    artigos = f.read()\n",
    "    \n",
    "print(artigos[:500])"
   ]
  },
  {
   "cell_type": "code",
   "execution_count": 2,
   "id": "2b7a3c51",
   "metadata": {},
   "outputs": [
    {
     "data": {
      "text/plain": [
       "2605046"
      ]
     },
     "execution_count": 2,
     "metadata": {},
     "output_type": "execute_result"
    }
   ],
   "source": [
    "#número de caractéres\n",
    "len(artigos)"
   ]
  },
  {
   "cell_type": "code",
   "execution_count": 3,
   "id": "e3a55722",
   "metadata": {},
   "outputs": [
    {
     "data": {
      "text/plain": [
       "416903"
      ]
     },
     "execution_count": 3,
     "metadata": {},
     "output_type": "execute_result"
    }
   ],
   "source": [
    "palavras_separadas = artigos.split()\n",
    "len(palavras_separadas)"
   ]
  },
  {
   "cell_type": "code",
   "execution_count": 4,
   "id": "85ced262",
   "metadata": {},
   "outputs": [],
   "source": [
    "texto_exemplo = \"Olá, tudo bem?\""
   ]
  },
  {
   "cell_type": "markdown",
   "id": "6eb65cc0",
   "metadata": {},
   "source": [
    "# Aula 2: Utilizando NLTK para tokenizar um texto"
   ]
  },
  {
   "cell_type": "markdown",
   "id": "e407d514",
   "metadata": {},
   "source": [
    "A primera coisa que faremos agora é tokenizar o texto através da biblioteca nltk pois estamos levando em conta vírgulas, pontos de forma geral que não queremos adicionar. Fazemos o import, instalamos um pacote extra necessário para fazer a tokenização, a aplicamos sobre o texto exemplo."
   ]
  },
  {
   "cell_type": "code",
   "execution_count": 5,
   "id": "e5936620",
   "metadata": {},
   "outputs": [],
   "source": [
    "import nltk\n",
    "#nltk.download('punkt')  - #precisa instalar na primeira vez.\n",
    "\n",
    "#Desinstalarei o arquivo do computador para livrar espaços.\n",
    "palavras_separadas = nltk.tokenize.word_tokenize(texto_exemplo)"
   ]
  },
  {
   "cell_type": "code",
   "execution_count": 6,
   "id": "69676caa",
   "metadata": {},
   "outputs": [
    {
     "name": "stdout",
     "output_type": "stream",
     "text": [
      "['Olá', ',', 'tudo', 'bem', '?']\n"
     ]
    }
   ],
   "source": [
    "print(palavras_separadas)"
   ]
  },
  {
   "cell_type": "markdown",
   "id": "e452b50b",
   "metadata": {},
   "source": [
    "Como queremos não levar em conta os pontos, faremos uma função que tira a pontuação através de um método chamado isalpha, que verifica se o caracter é alfanumérico."
   ]
  },
  {
   "cell_type": "code",
   "execution_count": 7,
   "id": "ab315062",
   "metadata": {},
   "outputs": [],
   "source": [
    "def separa_palavras(lista_tokens):\n",
    "    lista_palavras = []\n",
    "    for token in lista_tokens:\n",
    "        if token.isalpha():\n",
    "            lista_palavras.append(token)\n",
    "    return list(lista_palavras)"
   ]
  },
  {
   "cell_type": "code",
   "execution_count": 8,
   "id": "606ae41a",
   "metadata": {},
   "outputs": [],
   "source": [
    "def separa_palavras_conjunto(lista_tokens):\n",
    "    lista_palavras = set()\n",
    "    for token in lista_tokens:\n",
    "        if token.isalpha():\n",
    "            lista_palavras.add(token)\n",
    "    return list(lista_palavras)"
   ]
  },
  {
   "cell_type": "code",
   "execution_count": 9,
   "id": "d86f4d50",
   "metadata": {},
   "outputs": [
    {
     "data": {
      "text/plain": [
       "['Olá', 'tudo', 'bem']"
      ]
     },
     "execution_count": 9,
     "metadata": {},
     "output_type": "execute_result"
    }
   ],
   "source": [
    "separa_palavras(palavras_separadas)"
   ]
  },
  {
   "cell_type": "markdown",
   "id": "820e194e",
   "metadata": {},
   "source": [
    "Agora aplicaremos sobre o texto que queremos:"
   ]
  },
  {
   "cell_type": "code",
   "execution_count": 10,
   "id": "7aa85e22",
   "metadata": {},
   "outputs": [
    {
     "name": "stdout",
     "output_type": "stream",
     "text": [
      "O número de palavras é : 403104\n"
     ]
    }
   ],
   "source": [
    "lista_tokens = nltk.tokenize.word_tokenize(artigos)\n",
    "lista_palavras = separa_palavras(lista_tokens)\n",
    "print(\"O número de palavras é :\", len(lista_palavras))"
   ]
  },
  {
   "cell_type": "code",
   "execution_count": 11,
   "id": "216dcae2",
   "metadata": {},
   "outputs": [
    {
     "name": "stdout",
     "output_type": "stream",
     "text": [
      "['imagem', 'Temos', 'a', 'seguinte', 'classe']\n"
     ]
    }
   ],
   "source": [
    "print(lista_palavras[:5])"
   ]
  },
  {
   "cell_type": "markdown",
   "id": "16c2ba1d",
   "metadata": {},
   "source": [
    "Para não contar várias palavras várias vezes, podemos normalizar. O que seria normalizar? Levando em conta o exemplo acima das 5 primeiras palavras do lista_palavras, há a palavras 'Temos', que começa com a palavra maiúscula, só que ao longo do texto, pode haver a palavra começando com minúscula! E isso pode acontecer com diversas palavras, para isso então podemos tornar todas as palavras minúsculas e tirar as duplicadas."
   ]
  },
  {
   "cell_type": "code",
   "execution_count": 12,
   "id": "2571595b",
   "metadata": {},
   "outputs": [],
   "source": [
    "def normalizacao(lista_palavras):\n",
    "    lista_normalizada = []\n",
    "    for palavra in lista_palavras:\n",
    "        lista_normalizada.append(palavra.lower())\n",
    "    return lista_normalizada"
   ]
  },
  {
   "cell_type": "code",
   "execution_count": 13,
   "id": "db126776",
   "metadata": {},
   "outputs": [
    {
     "name": "stdout",
     "output_type": "stream",
     "text": [
      "['imagem', 'temos', 'a', 'seguinte', 'classe']\n"
     ]
    }
   ],
   "source": [
    "lista_normalizada = normalizacao(lista_palavras)\n",
    "print(lista_normalizada[:5])"
   ]
  },
  {
   "cell_type": "code",
   "execution_count": 14,
   "id": "4ab0231b",
   "metadata": {},
   "outputs": [
    {
     "data": {
      "text/plain": [
       "18465"
      ]
     },
     "execution_count": 14,
     "metadata": {},
     "output_type": "execute_result"
    }
   ],
   "source": [
    "#Removendo repetições\n",
    "len(set(lista_normalizada))"
   ]
  },
  {
   "cell_type": "markdown",
   "id": "aadb2e00",
   "metadata": {},
   "source": [
    "Logo, o número de palavras que o corretor vai aprender a corrigir será esse valor acima mostrado."
   ]
  },
  {
   "cell_type": "markdown",
   "id": "ca0e248f",
   "metadata": {},
   "source": [
    "# Aula 3: Desenvolvendo e testando o corretor"
   ]
  },
  {
   "cell_type": "markdown",
   "id": "c88a8291",
   "metadata": {},
   "source": [
    "Trabalharemos em cima de adicionar letras em palavras erradas, pensando na operação de adicionar letras em possíveis locais que estariam faltando um.\n",
    "\n",
    "Pensando na forma que será feita, é a divisão de **lado esquerdo + LETRA + lado direito**"
   ]
  },
  {
   "cell_type": "code",
   "execution_count": 15,
   "id": "b508556a",
   "metadata": {},
   "outputs": [],
   "source": [
    "palavra_exemplo = 'lgica'"
   ]
  },
  {
   "cell_type": "code",
   "execution_count": 16,
   "id": "1ce50fcb",
   "metadata": {
    "scrolled": true
   },
   "outputs": [
    {
     "data": {
      "text/plain": [
       "['algica',\n",
       " 'blgica',\n",
       " 'clgica',\n",
       " 'dlgica',\n",
       " 'elgica',\n",
       " 'flgica',\n",
       " 'glgica',\n",
       " 'hlgica',\n",
       " 'ilgica',\n",
       " 'jlgica',\n",
       " 'klgica',\n",
       " 'llgica',\n",
       " 'mlgica',\n",
       " 'nlgica',\n",
       " 'olgica',\n",
       " 'plgica',\n",
       " 'qlgica',\n",
       " 'rlgica',\n",
       " 'slgica',\n",
       " 'tlgica',\n",
       " 'ulgica',\n",
       " 'vlgica',\n",
       " 'wlgica',\n",
       " 'xlgica',\n",
       " 'ylgica',\n",
       " 'zlgica',\n",
       " 'àlgica',\n",
       " 'álgica',\n",
       " 'âlgica',\n",
       " 'ãlgica',\n",
       " 'èlgica',\n",
       " 'élgica',\n",
       " 'êlgica',\n",
       " 'ìlgica',\n",
       " 'ílgica',\n",
       " 'îlgica',\n",
       " 'òlgica',\n",
       " 'ólgica',\n",
       " 'ôlgica',\n",
       " 'õlgica',\n",
       " 'ùlgica',\n",
       " 'úlgica',\n",
       " 'ûlgica',\n",
       " 'çlgica',\n",
       " 'lagica',\n",
       " 'lbgica',\n",
       " 'lcgica',\n",
       " 'ldgica',\n",
       " 'legica',\n",
       " 'lfgica',\n",
       " 'lggica',\n",
       " 'lhgica',\n",
       " 'ligica',\n",
       " 'ljgica',\n",
       " 'lkgica',\n",
       " 'llgica',\n",
       " 'lmgica',\n",
       " 'lngica',\n",
       " 'logica',\n",
       " 'lpgica',\n",
       " 'lqgica',\n",
       " 'lrgica',\n",
       " 'lsgica',\n",
       " 'ltgica',\n",
       " 'lugica',\n",
       " 'lvgica',\n",
       " 'lwgica',\n",
       " 'lxgica',\n",
       " 'lygica',\n",
       " 'lzgica',\n",
       " 'làgica',\n",
       " 'lágica',\n",
       " 'lâgica',\n",
       " 'lãgica',\n",
       " 'lègica',\n",
       " 'légica',\n",
       " 'lêgica',\n",
       " 'lìgica',\n",
       " 'lígica',\n",
       " 'lîgica',\n",
       " 'lògica',\n",
       " 'lógica',\n",
       " 'lôgica',\n",
       " 'lõgica',\n",
       " 'lùgica',\n",
       " 'lúgica',\n",
       " 'lûgica',\n",
       " 'lçgica',\n",
       " 'lgaica',\n",
       " 'lgbica',\n",
       " 'lgcica',\n",
       " 'lgdica',\n",
       " 'lgeica',\n",
       " 'lgfica',\n",
       " 'lggica',\n",
       " 'lghica',\n",
       " 'lgiica',\n",
       " 'lgjica',\n",
       " 'lgkica',\n",
       " 'lglica',\n",
       " 'lgmica',\n",
       " 'lgnica',\n",
       " 'lgoica',\n",
       " 'lgpica',\n",
       " 'lgqica',\n",
       " 'lgrica',\n",
       " 'lgsica',\n",
       " 'lgtica',\n",
       " 'lguica',\n",
       " 'lgvica',\n",
       " 'lgwica',\n",
       " 'lgxica',\n",
       " 'lgyica',\n",
       " 'lgzica',\n",
       " 'lgàica',\n",
       " 'lgáica',\n",
       " 'lgâica',\n",
       " 'lgãica',\n",
       " 'lgèica',\n",
       " 'lgéica',\n",
       " 'lgêica',\n",
       " 'lgìica',\n",
       " 'lgíica',\n",
       " 'lgîica',\n",
       " 'lgòica',\n",
       " 'lgóica',\n",
       " 'lgôica',\n",
       " 'lgõica',\n",
       " 'lgùica',\n",
       " 'lgúica',\n",
       " 'lgûica',\n",
       " 'lgçica',\n",
       " 'lgiaca',\n",
       " 'lgibca',\n",
       " 'lgicca',\n",
       " 'lgidca',\n",
       " 'lgieca',\n",
       " 'lgifca',\n",
       " 'lgigca',\n",
       " 'lgihca',\n",
       " 'lgiica',\n",
       " 'lgijca',\n",
       " 'lgikca',\n",
       " 'lgilca',\n",
       " 'lgimca',\n",
       " 'lginca',\n",
       " 'lgioca',\n",
       " 'lgipca',\n",
       " 'lgiqca',\n",
       " 'lgirca',\n",
       " 'lgisca',\n",
       " 'lgitca',\n",
       " 'lgiuca',\n",
       " 'lgivca',\n",
       " 'lgiwca',\n",
       " 'lgixca',\n",
       " 'lgiyca',\n",
       " 'lgizca',\n",
       " 'lgiàca',\n",
       " 'lgiáca',\n",
       " 'lgiâca',\n",
       " 'lgiãca',\n",
       " 'lgièca',\n",
       " 'lgiéca',\n",
       " 'lgiêca',\n",
       " 'lgiìca',\n",
       " 'lgiíca',\n",
       " 'lgiîca',\n",
       " 'lgiòca',\n",
       " 'lgióca',\n",
       " 'lgiôca',\n",
       " 'lgiõca',\n",
       " 'lgiùca',\n",
       " 'lgiúca',\n",
       " 'lgiûca',\n",
       " 'lgiçca',\n",
       " 'lgicaa',\n",
       " 'lgicba',\n",
       " 'lgicca',\n",
       " 'lgicda',\n",
       " 'lgicea',\n",
       " 'lgicfa',\n",
       " 'lgicga',\n",
       " 'lgicha',\n",
       " 'lgicia',\n",
       " 'lgicja',\n",
       " 'lgicka',\n",
       " 'lgicla',\n",
       " 'lgicma',\n",
       " 'lgicna',\n",
       " 'lgicoa',\n",
       " 'lgicpa',\n",
       " 'lgicqa',\n",
       " 'lgicra',\n",
       " 'lgicsa',\n",
       " 'lgicta',\n",
       " 'lgicua',\n",
       " 'lgicva',\n",
       " 'lgicwa',\n",
       " 'lgicxa',\n",
       " 'lgicya',\n",
       " 'lgicza',\n",
       " 'lgicàa',\n",
       " 'lgicáa',\n",
       " 'lgicâa',\n",
       " 'lgicãa',\n",
       " 'lgicèa',\n",
       " 'lgicéa',\n",
       " 'lgicêa',\n",
       " 'lgicìa',\n",
       " 'lgicía',\n",
       " 'lgicîa',\n",
       " 'lgicòa',\n",
       " 'lgicóa',\n",
       " 'lgicôa',\n",
       " 'lgicõa',\n",
       " 'lgicùa',\n",
       " 'lgicúa',\n",
       " 'lgicûa',\n",
       " 'lgicça',\n",
       " 'lgicaa',\n",
       " 'lgicab',\n",
       " 'lgicac',\n",
       " 'lgicad',\n",
       " 'lgicae',\n",
       " 'lgicaf',\n",
       " 'lgicag',\n",
       " 'lgicah',\n",
       " 'lgicai',\n",
       " 'lgicaj',\n",
       " 'lgicak',\n",
       " 'lgical',\n",
       " 'lgicam',\n",
       " 'lgican',\n",
       " 'lgicao',\n",
       " 'lgicap',\n",
       " 'lgicaq',\n",
       " 'lgicar',\n",
       " 'lgicas',\n",
       " 'lgicat',\n",
       " 'lgicau',\n",
       " 'lgicav',\n",
       " 'lgicaw',\n",
       " 'lgicax',\n",
       " 'lgicay',\n",
       " 'lgicaz',\n",
       " 'lgicaà',\n",
       " 'lgicaá',\n",
       " 'lgicaâ',\n",
       " 'lgicaã',\n",
       " 'lgicaè',\n",
       " 'lgicaé',\n",
       " 'lgicaê',\n",
       " 'lgicaì',\n",
       " 'lgicaí',\n",
       " 'lgicaî',\n",
       " 'lgicaò',\n",
       " 'lgicaó',\n",
       " 'lgicaô',\n",
       " 'lgicaõ',\n",
       " 'lgicaù',\n",
       " 'lgicaú',\n",
       " 'lgicaû',\n",
       " 'lgicaç']"
      ]
     },
     "execution_count": 16,
     "metadata": {},
     "output_type": "execute_result"
    }
   ],
   "source": [
    "def gerador_palavras(palavra):   #Resolve o fatiamento\n",
    "    fatias = []\n",
    "    for i in range(len(palavra)+1):\n",
    "        fatias.append((palavra[:i],palavra[i:]))\n",
    "    palavras_geradas = insere_letras(fatias)\n",
    "    return palavras_geradas\n",
    "\n",
    "def insere_letras(fatias):       # Resolve a operação\n",
    "    novas_palavras = []\n",
    "    letras = 'abcdefghijklmnopqrstuvwxyzàáâãèéêìíîòóôõùúûç'\n",
    "    for E, D in fatias:\n",
    "        for letra in letras:\n",
    "            novas_palavras.append(E + letra + D)\n",
    "    return novas_palavras\n",
    "\n",
    "gerador_palavras(palavra_exemplo)"
   ]
  },
  {
   "cell_type": "code",
   "execution_count": 17,
   "id": "70bfa5f1",
   "metadata": {},
   "outputs": [],
   "source": [
    "def corretor(palavra):\n",
    "    palavras_geradas = gerador_palavras(palavra)\n",
    "    palavra_correta = max(palavras_geradas, key=probabilidade)\n",
    "    return palavra_correta"
   ]
  },
  {
   "cell_type": "code",
   "execution_count": 18,
   "id": "db4645f4",
   "metadata": {},
   "outputs": [
    {
     "data": {
      "text/plain": [
       "[('de', 15502),\n",
       " ('o', 14056),\n",
       " ('que', 12230),\n",
       " ('a', 11099),\n",
       " ('e', 10501),\n",
       " ('para', 7710),\n",
       " ('um', 6368),\n",
       " ('é', 5899),\n",
       " ('uma', 5220),\n",
       " ('do', 5124)]"
      ]
     },
     "execution_count": 18,
     "metadata": {},
     "output_type": "execute_result"
    }
   ],
   "source": [
    "frequencia = nltk.FreqDist(lista_normalizada)\n",
    "total_palavras = len(lista_normalizada)\n",
    "frequencia.most_common(10)"
   ]
  },
  {
   "cell_type": "code",
   "execution_count": 19,
   "id": "b3b4eecc",
   "metadata": {},
   "outputs": [
    {
     "data": {
      "text/plain": [
       "96"
      ]
     },
     "execution_count": 19,
     "metadata": {},
     "output_type": "execute_result"
    }
   ],
   "source": [
    "frequencia['lógica']"
   ]
  },
  {
   "cell_type": "code",
   "execution_count": 20,
   "id": "afde085a",
   "metadata": {},
   "outputs": [],
   "source": [
    "def probabilidade(palavra_gerada):\n",
    "    return frequencia[palavra_gerada]/total_palavras"
   ]
  },
  {
   "cell_type": "code",
   "execution_count": 21,
   "id": "b55ca99f",
   "metadata": {},
   "outputs": [
    {
     "data": {
      "text/plain": [
       "0.00023815194093831864"
      ]
     },
     "execution_count": 21,
     "metadata": {},
     "output_type": "execute_result"
    }
   ],
   "source": [
    "probabilidade('lógica')"
   ]
  },
  {
   "cell_type": "code",
   "execution_count": 22,
   "id": "6961f9cb",
   "metadata": {},
   "outputs": [
    {
     "data": {
      "text/plain": [
       "0.0"
      ]
     },
     "execution_count": 22,
     "metadata": {},
     "output_type": "execute_result"
    }
   ],
   "source": [
    "probabilidade('lbgica')"
   ]
  },
  {
   "cell_type": "code",
   "execution_count": 23,
   "id": "cd3b635c",
   "metadata": {},
   "outputs": [
    {
     "data": {
      "text/plain": [
       "0.0"
      ]
     },
     "execution_count": 23,
     "metadata": {},
     "output_type": "execute_result"
    }
   ],
   "source": [
    "probabilidade('logica')"
   ]
  },
  {
   "cell_type": "code",
   "execution_count": 24,
   "id": "0375840f",
   "metadata": {},
   "outputs": [
    {
     "data": {
      "text/plain": [
       "'lógica'"
      ]
     },
     "execution_count": 24,
     "metadata": {},
     "output_type": "execute_result"
    }
   ],
   "source": [
    "#Testando o correto\n",
    "corretor(palavra_exemplo)"
   ]
  },
  {
   "cell_type": "markdown",
   "id": "47421dbe",
   "metadata": {},
   "source": [
    "Agora, há outros tipos de problemas que tem que ser vistos, como por exemplo escrever palavras com mais letras do que deviam."
   ]
  },
  {
   "cell_type": "markdown",
   "id": "515c71db",
   "metadata": {},
   "source": [
    "# Aula 4: Avaliando a qualidade do corretor"
   ]
  },
  {
   "cell_type": "code",
   "execution_count": 25,
   "id": "3df00505",
   "metadata": {},
   "outputs": [],
   "source": [
    "def cria_dados_teste(nome_arquivo):\n",
    "    lista_palavras_teste = []\n",
    "    f = open(nome_arquivo, \"r\")\n",
    "    for linha in f:\n",
    "        correta, errada = linha.split()\n",
    "        lista_palavras_teste.append((correta, errada))\n",
    "    f.close()\n",
    "    return lista_palavras_teste\n",
    "\n",
    "lista_teste = cria_dados_teste(\"./dados/palavras.txt\")"
   ]
  },
  {
   "cell_type": "code",
   "execution_count": 26,
   "id": "9189d545",
   "metadata": {},
   "outputs": [
    {
     "name": "stdout",
     "output_type": "stream",
     "text": [
      "1.08% de 186 palavras\n"
     ]
    }
   ],
   "source": [
    "def avaliador(testes):\n",
    "    numero_palavras = len(testes)\n",
    "    acertou = 0\n",
    "    for correta, errada in testes:\n",
    "        if correta == corretor(errada):\n",
    "            acertou += 1\n",
    "    taxa_acerto = round(acertou*100/numero_palavras, 2)\n",
    "    print(f\"{taxa_acerto}% de {numero_palavras} palavras\")\n",
    "\n",
    "avaliador(lista_teste)"
   ]
  },
  {
   "cell_type": "markdown",
   "id": "31253d21",
   "metadata": {},
   "source": [
    "# Aula 5: Incrementando o corretor\n",
    "\n",
    "Uma nova operação será feita pelo corretor, de excluir um caracter para aumentar a quantidade de possibilidades de erro.\n",
    "\n",
    "Porém, ainda falta o erro de substituir palavras..."
   ]
  },
  {
   "cell_type": "code",
   "execution_count": 27,
   "id": "bb921b6f",
   "metadata": {},
   "outputs": [],
   "source": [
    "def deletando_caracteres(fatias):\n",
    "    novas_palavras = []\n",
    "    for E, D in fatias:\n",
    "        novas_palavras.append(E + D[1:])\n",
    "    return novas_palavras"
   ]
  },
  {
   "cell_type": "code",
   "execution_count": 28,
   "id": "203ad359",
   "metadata": {},
   "outputs": [],
   "source": [
    "#Extra\n",
    "def substitui_caracteres(fatias):\n",
    "    novas_palavras = []\n",
    "    letras = 'abcdefghijklmnopqrstuvwxyzàáâãèéêìíîòóôõùúûç'\n",
    "    for E, D in fatias:\n",
    "        for letra in letras:\n",
    "            novas_palavras.append(E + letra + D[1:])\n",
    "    return novas_palavras"
   ]
  },
  {
   "cell_type": "markdown",
   "id": "c73f061f",
   "metadata": {},
   "source": [
    "Vamos adaptar a função Gerador_Palavras para adicionar deletando_caracteres"
   ]
  },
  {
   "cell_type": "code",
   "execution_count": 29,
   "id": "9a248d80",
   "metadata": {},
   "outputs": [],
   "source": [
    "def gerador_palavras(palavra):\n",
    "    fatias = []\n",
    "    for i in range(len(palavra)+1):\n",
    "        fatias.append((palavra[:i],palavra[i:]))\n",
    "    palavras_geradas = insere_letras(fatias)\n",
    "    palavras_geradas += deletando_caracteres(fatias)\n",
    "    palavras_geradas += substitui_caracteres(fatias)\n",
    "    return palavras_geradas"
   ]
  },
  {
   "cell_type": "code",
   "execution_count": 30,
   "id": "7ecde2e7",
   "metadata": {},
   "outputs": [
    {
     "name": "stdout",
     "output_type": "stream",
     "text": [
      "['alóigica', 'blóigica', 'clóigica', 'dlóigica', 'elóigica', 'flóigica', 'glóigica', 'hlóigica', 'ilóigica', 'jlóigica', 'klóigica', 'llóigica', 'mlóigica', 'nlóigica', 'olóigica', 'plóigica', 'qlóigica', 'rlóigica', 'slóigica', 'tlóigica', 'ulóigica', 'vlóigica', 'wlóigica', 'xlóigica', 'ylóigica', 'zlóigica', 'àlóigica', 'álóigica', 'âlóigica', 'ãlóigica', 'èlóigica', 'élóigica', 'êlóigica', 'ìlóigica', 'ílóigica', 'îlóigica', 'òlóigica', 'ólóigica', 'ôlóigica', 'õlóigica', 'ùlóigica', 'úlóigica', 'ûlóigica', 'çlóigica', 'laóigica', 'lbóigica', 'lcóigica', 'ldóigica', 'leóigica', 'lfóigica', 'lgóigica', 'lhóigica', 'lióigica', 'ljóigica', 'lkóigica', 'llóigica', 'lmóigica', 'lnóigica', 'loóigica', 'lpóigica', 'lqóigica', 'lróigica', 'lsóigica', 'ltóigica', 'luóigica', 'lvóigica', 'lwóigica', 'lxóigica', 'lyóigica', 'lzóigica', 'làóigica', 'láóigica', 'lâóigica', 'lãóigica', 'lèóigica', 'léóigica', 'lêóigica', 'lìóigica', 'líóigica', 'lîóigica', 'lòóigica', 'lóóigica', 'lôóigica', 'lõóigica', 'lùóigica', 'lúóigica', 'lûóigica', 'lçóigica', 'lóaigica', 'lóbigica', 'lócigica', 'lódigica', 'lóeigica', 'lófigica', 'lógigica', 'lóhigica', 'lóiigica', 'lójigica', 'lókigica', 'lóligica', 'lómigica', 'lónigica', 'lóoigica', 'lópigica', 'lóqigica', 'lórigica', 'lósigica', 'lótigica', 'lóuigica', 'lóvigica', 'lówigica', 'lóxigica', 'lóyigica', 'lózigica', 'lóàigica', 'lóáigica', 'lóâigica', 'lóãigica', 'lóèigica', 'lóéigica', 'lóêigica', 'lóìigica', 'lóíigica', 'lóîigica', 'lóòigica', 'lóóigica', 'lóôigica', 'lóõigica', 'lóùigica', 'lóúigica', 'lóûigica', 'lóçigica', 'lóiagica', 'lóibgica', 'lóicgica', 'lóidgica', 'lóiegica', 'lóifgica', 'lóiggica', 'lóihgica', 'lóiigica', 'lóijgica', 'lóikgica', 'lóilgica', 'lóimgica', 'lóingica', 'lóiogica', 'lóipgica', 'lóiqgica', 'lóirgica', 'lóisgica', 'lóitgica', 'lóiugica', 'lóivgica', 'lóiwgica', 'lóixgica', 'lóiygica', 'lóizgica', 'lóiàgica', 'lóiágica', 'lóiâgica', 'lóiãgica', 'lóiègica', 'lóiégica', 'lóiêgica', 'lóiìgica', 'lóiígica', 'lóiîgica', 'lóiògica', 'lóiógica', 'lóiôgica', 'lóiõgica', 'lóiùgica', 'lóiúgica', 'lóiûgica', 'lóiçgica', 'lóigaica', 'lóigbica', 'lóigcica', 'lóigdica', 'lóigeica', 'lóigfica', 'lóiggica', 'lóighica', 'lóigiica', 'lóigjica', 'lóigkica', 'lóiglica', 'lóigmica', 'lóignica', 'lóigoica', 'lóigpica', 'lóigqica', 'lóigrica', 'lóigsica', 'lóigtica', 'lóiguica', 'lóigvica', 'lóigwica', 'lóigxica', 'lóigyica', 'lóigzica', 'lóigàica', 'lóigáica', 'lóigâica', 'lóigãica', 'lóigèica', 'lóigéica', 'lóigêica', 'lóigìica', 'lóigíica', 'lóigîica', 'lóigòica', 'lóigóica', 'lóigôica', 'lóigõica', 'lóigùica', 'lóigúica', 'lóigûica', 'lóigçica', 'lóigiaca', 'lóigibca', 'lóigicca', 'lóigidca', 'lóigieca', 'lóigifca', 'lóigigca', 'lóigihca', 'lóigiica', 'lóigijca', 'lóigikca', 'lóigilca', 'lóigimca', 'lóiginca', 'lóigioca', 'lóigipca', 'lóigiqca', 'lóigirca', 'lóigisca', 'lóigitca', 'lóigiuca', 'lóigivca', 'lóigiwca', 'lóigixca', 'lóigiyca', 'lóigizca', 'lóigiàca', 'lóigiáca', 'lóigiâca', 'lóigiãca', 'lóigièca', 'lóigiéca', 'lóigiêca', 'lóigiìca', 'lóigiíca', 'lóigiîca', 'lóigiòca', 'lóigióca', 'lóigiôca', 'lóigiõca', 'lóigiùca', 'lóigiúca', 'lóigiûca', 'lóigiçca', 'lóigicaa', 'lóigicba', 'lóigicca', 'lóigicda', 'lóigicea', 'lóigicfa', 'lóigicga', 'lóigicha', 'lóigicia', 'lóigicja', 'lóigicka', 'lóigicla', 'lóigicma', 'lóigicna', 'lóigicoa', 'lóigicpa', 'lóigicqa', 'lóigicra', 'lóigicsa', 'lóigicta', 'lóigicua', 'lóigicva', 'lóigicwa', 'lóigicxa', 'lóigicya', 'lóigicza', 'lóigicàa', 'lóigicáa', 'lóigicâa', 'lóigicãa', 'lóigicèa', 'lóigicéa', 'lóigicêa', 'lóigicìa', 'lóigicía', 'lóigicîa', 'lóigicòa', 'lóigicóa', 'lóigicôa', 'lóigicõa', 'lóigicùa', 'lóigicúa', 'lóigicûa', 'lóigicça', 'lóigicaa', 'lóigicab', 'lóigicac', 'lóigicad', 'lóigicae', 'lóigicaf', 'lóigicag', 'lóigicah', 'lóigicai', 'lóigicaj', 'lóigicak', 'lóigical', 'lóigicam', 'lóigican', 'lóigicao', 'lóigicap', 'lóigicaq', 'lóigicar', 'lóigicas', 'lóigicat', 'lóigicau', 'lóigicav', 'lóigicaw', 'lóigicax', 'lóigicay', 'lóigicaz', 'lóigicaà', 'lóigicaá', 'lóigicaâ', 'lóigicaã', 'lóigicaè', 'lóigicaé', 'lóigicaê', 'lóigicaì', 'lóigicaí', 'lóigicaî', 'lóigicaò', 'lóigicaó', 'lóigicaô', 'lóigicaõ', 'lóigicaù', 'lóigicaú', 'lóigicaû', 'lóigicaç', 'óigica', 'ligica', 'lógica', 'lóiica', 'lóigca', 'lóigia', 'lóigic', 'lóigica', 'aóigica', 'bóigica', 'cóigica', 'dóigica', 'eóigica', 'fóigica', 'góigica', 'hóigica', 'ióigica', 'jóigica', 'kóigica', 'lóigica', 'móigica', 'nóigica', 'oóigica', 'póigica', 'qóigica', 'róigica', 'sóigica', 'tóigica', 'uóigica', 'vóigica', 'wóigica', 'xóigica', 'yóigica', 'zóigica', 'àóigica', 'áóigica', 'âóigica', 'ãóigica', 'èóigica', 'éóigica', 'êóigica', 'ìóigica', 'íóigica', 'îóigica', 'òóigica', 'óóigica', 'ôóigica', 'õóigica', 'ùóigica', 'úóigica', 'ûóigica', 'çóigica', 'laigica', 'lbigica', 'lcigica', 'ldigica', 'leigica', 'lfigica', 'lgigica', 'lhigica', 'liigica', 'ljigica', 'lkigica', 'lligica', 'lmigica', 'lnigica', 'loigica', 'lpigica', 'lqigica', 'lrigica', 'lsigica', 'ltigica', 'luigica', 'lvigica', 'lwigica', 'lxigica', 'lyigica', 'lzigica', 'làigica', 'láigica', 'lâigica', 'lãigica', 'lèigica', 'léigica', 'lêigica', 'lìigica', 'líigica', 'lîigica', 'lòigica', 'lóigica', 'lôigica', 'lõigica', 'lùigica', 'lúigica', 'lûigica', 'lçigica', 'lóagica', 'lóbgica', 'lócgica', 'lódgica', 'lóegica', 'lófgica', 'lóggica', 'lóhgica', 'lóigica', 'lójgica', 'lókgica', 'lólgica', 'lómgica', 'lóngica', 'lóogica', 'lópgica', 'lóqgica', 'lórgica', 'lósgica', 'lótgica', 'lóugica', 'lóvgica', 'lówgica', 'lóxgica', 'lóygica', 'lózgica', 'lóàgica', 'lóágica', 'lóâgica', 'lóãgica', 'lóègica', 'lóégica', 'lóêgica', 'lóìgica', 'lóígica', 'lóîgica', 'lóògica', 'lóógica', 'lóôgica', 'lóõgica', 'lóùgica', 'lóúgica', 'lóûgica', 'lóçgica', 'lóiaica', 'lóibica', 'lóicica', 'lóidica', 'lóieica', 'lóifica', 'lóigica', 'lóihica', 'lóiiica', 'lóijica', 'lóikica', 'lóilica', 'lóimica', 'lóinica', 'lóioica', 'lóipica', 'lóiqica', 'lóirica', 'lóisica', 'lóitica', 'lóiuica', 'lóivica', 'lóiwica', 'lóixica', 'lóiyica', 'lóizica', 'lóiàica', 'lóiáica', 'lóiâica', 'lóiãica', 'lóièica', 'lóiéica', 'lóiêica', 'lóiìica', 'lóiíica', 'lóiîica', 'lóiòica', 'lóióica', 'lóiôica', 'lóiõica', 'lóiùica', 'lóiúica', 'lóiûica', 'lóiçica', 'lóigaca', 'lóigbca', 'lóigcca', 'lóigdca', 'lóigeca', 'lóigfca', 'lóiggca', 'lóighca', 'lóigica', 'lóigjca', 'lóigkca', 'lóiglca', 'lóigmca', 'lóignca', 'lóigoca', 'lóigpca', 'lóigqca', 'lóigrca', 'lóigsca', 'lóigtca', 'lóiguca', 'lóigvca', 'lóigwca', 'lóigxca', 'lóigyca', 'lóigzca', 'lóigàca', 'lóigáca', 'lóigâca', 'lóigãca', 'lóigèca', 'lóigéca', 'lóigêca', 'lóigìca', 'lóigíca', 'lóigîca', 'lóigòca', 'lóigóca', 'lóigôca', 'lóigõca', 'lóigùca', 'lóigúca', 'lóigûca', 'lóigçca', 'lóigiaa', 'lóigiba', 'lóigica', 'lóigida', 'lóigiea', 'lóigifa', 'lóigiga', 'lóigiha', 'lóigiia', 'lóigija', 'lóigika', 'lóigila', 'lóigima', 'lóigina', 'lóigioa', 'lóigipa', 'lóigiqa', 'lóigira', 'lóigisa', 'lóigita', 'lóigiua', 'lóigiva', 'lóigiwa', 'lóigixa', 'lóigiya', 'lóigiza', 'lóigiàa', 'lóigiáa', 'lóigiâa', 'lóigiãa', 'lóigièa', 'lóigiéa', 'lóigiêa', 'lóigiìa', 'lóigiía', 'lóigiîa', 'lóigiòa', 'lóigióa', 'lóigiôa', 'lóigiõa', 'lóigiùa', 'lóigiúa', 'lóigiûa', 'lóigiça', 'lóigica', 'lóigicb', 'lóigicc', 'lóigicd', 'lóigice', 'lóigicf', 'lóigicg', 'lóigich', 'lóigici', 'lóigicj', 'lóigick', 'lóigicl', 'lóigicm', 'lóigicn', 'lóigico', 'lóigicp', 'lóigicq', 'lóigicr', 'lóigics', 'lóigict', 'lóigicu', 'lóigicv', 'lóigicw', 'lóigicx', 'lóigicy', 'lóigicz', 'lóigicà', 'lóigicá', 'lóigicâ', 'lóigicã', 'lóigicè', 'lóigicé', 'lóigicê', 'lóigicì', 'lóigicí', 'lóigicî', 'lóigicò', 'lóigicó', 'lóigicô', 'lóigicõ', 'lóigicù', 'lóigicú', 'lóigicû', 'lóigicç', 'lóigicaa', 'lóigicab', 'lóigicac', 'lóigicad', 'lóigicae', 'lóigicaf', 'lóigicag', 'lóigicah', 'lóigicai', 'lóigicaj', 'lóigicak', 'lóigical', 'lóigicam', 'lóigican', 'lóigicao', 'lóigicap', 'lóigicaq', 'lóigicar', 'lóigicas', 'lóigicat', 'lóigicau', 'lóigicav', 'lóigicaw', 'lóigicax', 'lóigicay', 'lóigicaz', 'lóigicaà', 'lóigicaá', 'lóigicaâ', 'lóigicaã', 'lóigicaè', 'lóigicaé', 'lóigicaê', 'lóigicaì', 'lóigicaí', 'lóigicaî', 'lóigicaò', 'lóigicaó', 'lóigicaô', 'lóigicaõ', 'lóigicaù', 'lóigicaú', 'lóigicaû', 'lóigicaç']\n"
     ]
    }
   ],
   "source": [
    "palavra_exemplo = \"lóigica\"\n",
    "palavras_geradas = gerador_palavras(palavra_exemplo)\n",
    "print(palavras_geradas)"
   ]
  },
  {
   "cell_type": "code",
   "execution_count": 31,
   "id": "25815986",
   "metadata": {},
   "outputs": [
    {
     "name": "stdout",
     "output_type": "stream",
     "text": [
      "76.34% de 186 palavras\n"
     ]
    }
   ],
   "source": [
    "avaliador(lista_teste)"
   ]
  },
  {
   "cell_type": "markdown",
   "id": "c846444f",
   "metadata": {},
   "source": [
    "O professor não fez ainda a função de substituição de caractéres, então nessa parte da aula a taxa de acerto dele é aproximadamente 41%."
   ]
  },
  {
   "cell_type": "markdown",
   "id": "c843de50",
   "metadata": {},
   "source": [
    "# Aula 6: Codando os principais erros de digitação"
   ]
  },
  {
   "cell_type": "markdown",
   "id": "d5c1154a",
   "metadata": {},
   "source": [
    "Os principais erros estão associados a trocar letras, então basicamente o que o professor fará será a função que já foi feita : substitui_caracteres!\n",
    "Então essa aula basicamente já foi feita."
   ]
  },
  {
   "cell_type": "code",
   "execution_count": 33,
   "id": "781d7f12",
   "metadata": {},
   "outputs": [],
   "source": [
    "# Para organização:\n",
    "def gerador_palavras(palavra):\n",
    "    fatias = []\n",
    "    for i in range(len(palavra)+1):\n",
    "        fatias.append((palavra[:i],palavra[i:]))\n",
    "    palavras_geradas = insere_letras(fatias)\n",
    "    palavras_geradas += deletando_caracteres(fatias)\n",
    "    palavras_geradas += substitui_caracteres(fatias)\n",
    "    return palavras_geradas\n",
    "\n",
    "def insere_letras(fatias):      \n",
    "    novas_palavras = []\n",
    "    letras = 'abcdefghijklmnopqrstuvwxyzàáâãèéêìíîòóôõùúûç'\n",
    "    for E, D in fatias:\n",
    "        for letra in letras:\n",
    "            novas_palavras.append(E + letra + D)\n",
    "    return novas_palavras\n",
    "\n",
    "def deletando_caracteres(fatias):\n",
    "    novas_palavras = []\n",
    "    for E, D in fatias:\n",
    "        novas_palavras.append(E + D[1:])\n",
    "    return novas_palavras\n",
    "\n",
    "def substitui_caracteres(fatias):\n",
    "    novas_palavras = []\n",
    "    letras = 'abcdefghijklmnopqrstuvwxyzàáâãèéêìíîòóôõùúûç'\n",
    "    for E, D in fatias:\n",
    "        for letra in letras:\n",
    "            novas_palavras.append(E + letra + D[1:])\n",
    "    return novas_palavras"
   ]
  },
  {
   "cell_type": "markdown",
   "id": "2f456472",
   "metadata": {},
   "source": [
    "Falta mais erros! Invertendo letras por outras."
   ]
  },
  {
   "cell_type": "code",
   "execution_count": 41,
   "id": "09bbb2b6",
   "metadata": {},
   "outputs": [],
   "source": [
    "  def invertendo_letras_continuas(fatias):\n",
    "        novas_palavras = []\n",
    "        for E, D in fatias:\n",
    "            if len(D)>1:\n",
    "                novas_palavras.append(E+D[1]+D[0]+D[2:])\n",
    "        return novas_palavras"
   ]
  },
  {
   "cell_type": "code",
   "execution_count": 42,
   "id": "aaee4634",
   "metadata": {},
   "outputs": [],
   "source": [
    "def gerador_palavras(palavra):\n",
    "    fatias = []\n",
    "    for i in range(len(palavra)+1):\n",
    "        fatias.append((palavra[:i],palavra[i:]))\n",
    "    palavras_geradas = insere_letras(fatias)\n",
    "    palavras_geradas += deletando_caracteres(fatias)\n",
    "    palavras_geradas += substitui_caracteres(fatias)\n",
    "    #palavras_geradas += invertendo_letras_continuas(fatias)\n",
    "    return palavras_geradas"
   ]
  },
  {
   "cell_type": "code",
   "execution_count": 44,
   "id": "8a0c4674",
   "metadata": {},
   "outputs": [
    {
     "name": "stdout",
     "output_type": "stream",
     "text": [
      "['alógiac', 'blógiac', 'clógiac', 'dlógiac', 'elógiac', 'flógiac', 'glógiac', 'hlógiac', 'ilógiac', 'jlógiac', 'klógiac', 'llógiac', 'mlógiac', 'nlógiac', 'ológiac', 'plógiac', 'qlógiac', 'rlógiac', 'slógiac', 'tlógiac', 'ulógiac', 'vlógiac', 'wlógiac', 'xlógiac', 'ylógiac', 'zlógiac', 'àlógiac', 'álógiac', 'âlógiac', 'ãlógiac', 'èlógiac', 'élógiac', 'êlógiac', 'ìlógiac', 'ílógiac', 'îlógiac', 'òlógiac', 'ólógiac', 'ôlógiac', 'õlógiac', 'ùlógiac', 'úlógiac', 'ûlógiac', 'çlógiac', 'laógiac', 'lbógiac', 'lcógiac', 'ldógiac', 'leógiac', 'lfógiac', 'lgógiac', 'lhógiac', 'liógiac', 'ljógiac', 'lkógiac', 'llógiac', 'lmógiac', 'lnógiac', 'loógiac', 'lpógiac', 'lqógiac', 'lrógiac', 'lsógiac', 'ltógiac', 'luógiac', 'lvógiac', 'lwógiac', 'lxógiac', 'lyógiac', 'lzógiac', 'làógiac', 'láógiac', 'lâógiac', 'lãógiac', 'lèógiac', 'léógiac', 'lêógiac', 'lìógiac', 'líógiac', 'lîógiac', 'lòógiac', 'lóógiac', 'lôógiac', 'lõógiac', 'lùógiac', 'lúógiac', 'lûógiac', 'lçógiac', 'lóagiac', 'lóbgiac', 'lócgiac', 'lódgiac', 'lóegiac', 'lófgiac', 'lóggiac', 'lóhgiac', 'lóigiac', 'lójgiac', 'lókgiac', 'lólgiac', 'lómgiac', 'lóngiac', 'lóogiac', 'lópgiac', 'lóqgiac', 'lórgiac', 'lósgiac', 'lótgiac', 'lóugiac', 'lóvgiac', 'lówgiac', 'lóxgiac', 'lóygiac', 'lózgiac', 'lóàgiac', 'lóágiac', 'lóâgiac', 'lóãgiac', 'lóègiac', 'lóégiac', 'lóêgiac', 'lóìgiac', 'lóígiac', 'lóîgiac', 'lóògiac', 'lóógiac', 'lóôgiac', 'lóõgiac', 'lóùgiac', 'lóúgiac', 'lóûgiac', 'lóçgiac', 'lógaiac', 'lógbiac', 'lógciac', 'lógdiac', 'lógeiac', 'lógfiac', 'lóggiac', 'lóghiac', 'lógiiac', 'lógjiac', 'lógkiac', 'lógliac', 'lógmiac', 'lógniac', 'lógoiac', 'lógpiac', 'lógqiac', 'lógriac', 'lógsiac', 'lógtiac', 'lóguiac', 'lógviac', 'lógwiac', 'lógxiac', 'lógyiac', 'lógziac', 'lógàiac', 'lógáiac', 'lógâiac', 'lógãiac', 'lógèiac', 'lógéiac', 'lógêiac', 'lógìiac', 'lógíiac', 'lógîiac', 'lógòiac', 'lógóiac', 'lógôiac', 'lógõiac', 'lógùiac', 'lógúiac', 'lógûiac', 'lógçiac', 'lógiaac', 'lógibac', 'lógicac', 'lógidac', 'lógieac', 'lógifac', 'lógigac', 'lógihac', 'lógiiac', 'lógijac', 'lógikac', 'lógilac', 'lógimac', 'lóginac', 'lógioac', 'lógipac', 'lógiqac', 'lógirac', 'lógisac', 'lógitac', 'lógiuac', 'lógivac', 'lógiwac', 'lógixac', 'lógiyac', 'lógizac', 'lógiàac', 'lógiáac', 'lógiâac', 'lógiãac', 'lógièac', 'lógiéac', 'lógiêac', 'lógiìac', 'lógiíac', 'lógiîac', 'lógiòac', 'lógióac', 'lógiôac', 'lógiõac', 'lógiùac', 'lógiúac', 'lógiûac', 'lógiçac', 'lógiaac', 'lógiabc', 'lógiacc', 'lógiadc', 'lógiaec', 'lógiafc', 'lógiagc', 'lógiahc', 'lógiaic', 'lógiajc', 'lógiakc', 'lógialc', 'lógiamc', 'lógianc', 'lógiaoc', 'lógiapc', 'lógiaqc', 'lógiarc', 'lógiasc', 'lógiatc', 'lógiauc', 'lógiavc', 'lógiawc', 'lógiaxc', 'lógiayc', 'lógiazc', 'lógiaàc', 'lógiaác', 'lógiaâc', 'lógiaãc', 'lógiaèc', 'lógiaéc', 'lógiaêc', 'lógiaìc', 'lógiaíc', 'lógiaîc', 'lógiaòc', 'lógiaóc', 'lógiaôc', 'lógiaõc', 'lógiaùc', 'lógiaúc', 'lógiaûc', 'lógiaçc', 'lógiaca', 'lógiacb', 'lógiacc', 'lógiacd', 'lógiace', 'lógiacf', 'lógiacg', 'lógiach', 'lógiaci', 'lógiacj', 'lógiack', 'lógiacl', 'lógiacm', 'lógiacn', 'lógiaco', 'lógiacp', 'lógiacq', 'lógiacr', 'lógiacs', 'lógiact', 'lógiacu', 'lógiacv', 'lógiacw', 'lógiacx', 'lógiacy', 'lógiacz', 'lógiacà', 'lógiacá', 'lógiacâ', 'lógiacã', 'lógiacè', 'lógiacé', 'lógiacê', 'lógiacì', 'lógiací', 'lógiacî', 'lógiacò', 'lógiacó', 'lógiacô', 'lógiacõ', 'lógiacù', 'lógiacú', 'lógiacû', 'lógiacç', 'ógiac', 'lgiac', 'lóiac', 'lógac', 'lógic', 'lógia', 'lógiac', 'aógiac', 'bógiac', 'cógiac', 'dógiac', 'eógiac', 'fógiac', 'gógiac', 'hógiac', 'iógiac', 'jógiac', 'kógiac', 'lógiac', 'mógiac', 'nógiac', 'oógiac', 'pógiac', 'qógiac', 'rógiac', 'sógiac', 'tógiac', 'uógiac', 'vógiac', 'wógiac', 'xógiac', 'yógiac', 'zógiac', 'àógiac', 'áógiac', 'âógiac', 'ãógiac', 'èógiac', 'éógiac', 'êógiac', 'ìógiac', 'íógiac', 'îógiac', 'òógiac', 'óógiac', 'ôógiac', 'õógiac', 'ùógiac', 'úógiac', 'ûógiac', 'çógiac', 'lagiac', 'lbgiac', 'lcgiac', 'ldgiac', 'legiac', 'lfgiac', 'lggiac', 'lhgiac', 'ligiac', 'ljgiac', 'lkgiac', 'llgiac', 'lmgiac', 'lngiac', 'logiac', 'lpgiac', 'lqgiac', 'lrgiac', 'lsgiac', 'ltgiac', 'lugiac', 'lvgiac', 'lwgiac', 'lxgiac', 'lygiac', 'lzgiac', 'làgiac', 'lágiac', 'lâgiac', 'lãgiac', 'lègiac', 'légiac', 'lêgiac', 'lìgiac', 'lígiac', 'lîgiac', 'lògiac', 'lógiac', 'lôgiac', 'lõgiac', 'lùgiac', 'lúgiac', 'lûgiac', 'lçgiac', 'lóaiac', 'lóbiac', 'lóciac', 'lódiac', 'lóeiac', 'lófiac', 'lógiac', 'lóhiac', 'lóiiac', 'lójiac', 'lókiac', 'lóliac', 'lómiac', 'lóniac', 'lóoiac', 'lópiac', 'lóqiac', 'lóriac', 'lósiac', 'lótiac', 'lóuiac', 'lóviac', 'lówiac', 'lóxiac', 'lóyiac', 'lóziac', 'lóàiac', 'lóáiac', 'lóâiac', 'lóãiac', 'lóèiac', 'lóéiac', 'lóêiac', 'lóìiac', 'lóíiac', 'lóîiac', 'lóòiac', 'lóóiac', 'lóôiac', 'lóõiac', 'lóùiac', 'lóúiac', 'lóûiac', 'lóçiac', 'lógaac', 'lógbac', 'lógcac', 'lógdac', 'lógeac', 'lógfac', 'lóggac', 'lóghac', 'lógiac', 'lógjac', 'lógkac', 'lóglac', 'lógmac', 'lógnac', 'lógoac', 'lógpac', 'lógqac', 'lógrac', 'lógsac', 'lógtac', 'lóguac', 'lógvac', 'lógwac', 'lógxac', 'lógyac', 'lógzac', 'lógàac', 'lógáac', 'lógâac', 'lógãac', 'lógèac', 'lógéac', 'lógêac', 'lógìac', 'lógíac', 'lógîac', 'lógòac', 'lógóac', 'lógôac', 'lógõac', 'lógùac', 'lógúac', 'lógûac', 'lógçac', 'lógiac', 'lógibc', 'lógicc', 'lógidc', 'lógiec', 'lógifc', 'lógigc', 'lógihc', 'lógiic', 'lógijc', 'lógikc', 'lógilc', 'lógimc', 'lóginc', 'lógioc', 'lógipc', 'lógiqc', 'lógirc', 'lógisc', 'lógitc', 'lógiuc', 'lógivc', 'lógiwc', 'lógixc', 'lógiyc', 'lógizc', 'lógiàc', 'lógiác', 'lógiâc', 'lógiãc', 'lógièc', 'lógiéc', 'lógiêc', 'lógiìc', 'lógiíc', 'lógiîc', 'lógiòc', 'lógióc', 'lógiôc', 'lógiõc', 'lógiùc', 'lógiúc', 'lógiûc', 'lógiçc', 'lógiaa', 'lógiab', 'lógiac', 'lógiad', 'lógiae', 'lógiaf', 'lógiag', 'lógiah', 'lógiai', 'lógiaj', 'lógiak', 'lógial', 'lógiam', 'lógian', 'lógiao', 'lógiap', 'lógiaq', 'lógiar', 'lógias', 'lógiat', 'lógiau', 'lógiav', 'lógiaw', 'lógiax', 'lógiay', 'lógiaz', 'lógiaà', 'lógiaá', 'lógiaâ', 'lógiaã', 'lógiaè', 'lógiaé', 'lógiaê', 'lógiaì', 'lógiaí', 'lógiaî', 'lógiaò', 'lógiaó', 'lógiaô', 'lógiaõ', 'lógiaù', 'lógiaú', 'lógiaû', 'lógiaç', 'lógiaca', 'lógiacb', 'lógiacc', 'lógiacd', 'lógiace', 'lógiacf', 'lógiacg', 'lógiach', 'lógiaci', 'lógiacj', 'lógiack', 'lógiacl', 'lógiacm', 'lógiacn', 'lógiaco', 'lógiacp', 'lógiacq', 'lógiacr', 'lógiacs', 'lógiact', 'lógiacu', 'lógiacv', 'lógiacw', 'lógiacx', 'lógiacy', 'lógiacz', 'lógiacà', 'lógiacá', 'lógiacâ', 'lógiacã', 'lógiacè', 'lógiacé', 'lógiacê', 'lógiacì', 'lógiací', 'lógiacî', 'lógiacò', 'lógiacó', 'lógiacô', 'lógiacõ', 'lógiacù', 'lógiacú', 'lógiacû', 'lógiacç']\n"
     ]
    }
   ],
   "source": [
    "palavra_exemplo = 'lógiac'\n",
    "palavras_geradas = gerador_palavras(palavra_exemplo)\n",
    "print(palavras_geradas)"
   ]
  },
  {
   "cell_type": "code",
   "execution_count": 43,
   "id": "9bdb967a",
   "metadata": {},
   "outputs": [
    {
     "name": "stdout",
     "output_type": "stream",
     "text": [
      "76.34% de 186 palavras\n"
     ]
    }
   ],
   "source": [
    "avaliador(lista_teste)"
   ]
  },
  {
   "cell_type": "markdown",
   "id": "88968d7e",
   "metadata": {},
   "source": [
    "# Aula 7: Criando um corretor turbinado"
   ]
  },
  {
   "cell_type": "code",
   "execution_count": 57,
   "id": "0569b4a1",
   "metadata": {},
   "outputs": [
    {
     "name": "stdout",
     "output_type": "stream",
     "text": [
      "76.34% de 186 palavras, desconhecidas é 6.99%\n"
     ]
    }
   ],
   "source": [
    "def avaliador(testes, vocabulario):\n",
    "    numero_palavras = len(testes)\n",
    "    acertou = 0\n",
    "    desconhecida = 0\n",
    "    for correta, errada in testes:\n",
    "        palavra_corrigida = corretor(errada)\n",
    "        if palavra_corrigida == correta:\n",
    "            acertou += 1\n",
    "        else:\n",
    "            desconhecida += (correta not in vocabulario)\n",
    "    taxa_acerto = round(acertou*100/numero_palavras, 2)\n",
    "    taxa_desconhecida = round(desconhecida*100/numero_palavras, 2)\n",
    "    print(f\"{taxa_acerto}% de {numero_palavras} palavras, desconhecidas é {taxa_desconhecida}%\")\n",
    "\n",
    "\n",
    "vocabulario = set(lista_normalizada)\n",
    "avaliador(lista_teste, vocabulario)"
   ]
  },
  {
   "cell_type": "code",
   "execution_count": 58,
   "id": "995a6d84",
   "metadata": {},
   "outputs": [
    {
     "data": {
      "text/plain": [
       "True"
      ]
     },
     "execution_count": 58,
     "metadata": {},
     "output_type": "execute_result"
    }
   ],
   "source": [
    "palavra = \"lóiigica\"\n",
    "\n",
    "def gerador_turbinado(palavras_geradas):\n",
    "    novas_palavras = []\n",
    "    for palavra in palavras_geradas:\n",
    "        novas_palavras += gerador_palavras(palavra)\n",
    "    return novas_palavras\n",
    "\n",
    "palavras_g = gerador_turbinado(gerador_palavras(palavra))\n",
    "\"lógica\" in palavras_g"
   ]
  },
  {
   "cell_type": "code",
   "execution_count": 59,
   "id": "c734af8f",
   "metadata": {},
   "outputs": [
    {
     "data": {
      "text/plain": [
       "680049"
      ]
     },
     "execution_count": 59,
     "metadata": {},
     "output_type": "execute_result"
    }
   ],
   "source": [
    "len(palavras_g)"
   ]
  },
  {
   "cell_type": "code",
   "execution_count": 61,
   "id": "bd904a72",
   "metadata": {},
   "outputs": [
    {
     "data": {
      "text/plain": [
       "'lógica'"
      ]
     },
     "execution_count": 61,
     "metadata": {},
     "output_type": "execute_result"
    }
   ],
   "source": [
    "def novo_corretor(palavra):\n",
    "    palavras_geradas = gerador_palavras(palavra)\n",
    "    palavras_turbinado = gerador_turbinado(palavras_geradas)\n",
    "    todas_palavras = set(palavras_geradas + palavras_turbinado)\n",
    "    candidatos = [palavra]\n",
    "    for palavra in todas_palavras:\n",
    "        if palavra in vocabulario:\n",
    "            candidatos.append(palavra)\n",
    "    #print(len(candidatos))\n",
    "    palavra_correta = max(candidatos, key=probabilidade)\n",
    "    return palavra_correta\n",
    "\n",
    "novo_corretor(palavra)"
   ]
  },
  {
   "cell_type": "markdown",
   "id": "0da7d96b",
   "metadata": {},
   "source": [
    "# Aula 8: Avaliando e interpretando o erro do corretor turbinado"
   ]
  },
  {
   "cell_type": "code",
   "execution_count": 63,
   "id": "13df1c74",
   "metadata": {},
   "outputs": [
    {
     "name": "stdout",
     "output_type": "stream",
     "text": [
      "55.38% de 186 palavras, desconhecidas 6.99%\n"
     ]
    }
   ],
   "source": [
    "def avaliador(testes, vocabulario):\n",
    "    numero_palavras = len(testes)\n",
    "    acertou = 0\n",
    "    desconhecida = 0\n",
    "    for correta, errada in testes:\n",
    "        palavra_corrigida = novo_corretor(errada)\n",
    "        desconhecida += (correta not in vocabulario)\n",
    "        if palavra_corrigida == correta:\n",
    "            acertou += 1\n",
    "    taxa_acerto = round(acertou*100/numero_palavras, 2)\n",
    "    taxa_desconhecida = round(desconhecida*100/numero_palavras, 2)\n",
    "    print(f\"{taxa_acerto}% de {numero_palavras} palavras, desconhecidas {taxa_desconhecida}%\")\n",
    "\n",
    "vocabulario = set(lista_normalizada)\n",
    "avaliador(lista_teste, vocabulario)"
   ]
  },
  {
   "cell_type": "markdown",
   "id": "9b9a3bc7",
   "metadata": {},
   "source": [
    "A porcentagem ainda está baixa. Isso é porque as palavras que o corretor turbinado faz a correção incorreta pois ele encontra outras palavras que apresentam maior porcentagem que a que deveria ser correta.\n",
    "Ele perfoma pior do que nosso corretor antigo!"
   ]
  },
  {
   "cell_type": "code",
   "execution_count": 64,
   "id": "f7336c24",
   "metadata": {},
   "outputs": [
    {
     "name": "stdout",
     "output_type": "stream",
     "text": [
      "76.34% de 186 palavras, desconhecidas 6.99%\n"
     ]
    }
   ],
   "source": [
    "def avaliador(testes, vocabulario):\n",
    "    numero_palavras = len(testes)\n",
    "    acertou = 0\n",
    "    desconhecida = 0\n",
    "    for correta, errada in testes:\n",
    "        palavra_corrigida = corretor(errada)\n",
    "        desconhecida += (correta not in vocabulario)\n",
    "        if palavra_corrigida == correta:\n",
    "            acertou += 1\n",
    "    taxa_acerto = round(acertou*100/numero_palavras, 2)\n",
    "    taxa_desconhecida = round(desconhecida*100/numero_palavras, 2)\n",
    "    print(f\"{taxa_acerto}% de {numero_palavras} palavras, desconhecidas {taxa_desconhecida}%\")\n",
    "\n",
    "vocabulario = set(lista_normalizada)\n",
    "avaliador(lista_teste, vocabulario)"
   ]
  },
  {
   "cell_type": "code",
   "execution_count": 65,
   "id": "ae4ffcdd",
   "metadata": {},
   "outputs": [
    {
     "name": "stdout",
     "output_type": "stream",
     "text": [
      "fica\n",
      "lógica\n"
     ]
    }
   ],
   "source": [
    "palavra = \"lgica\"\n",
    "print(novo_corretor(palavra))\n",
    "print(corretor(palavra))"
   ]
  },
  {
   "cell_type": "code",
   "execution_count": null,
   "id": "529bd163",
   "metadata": {},
   "outputs": [],
   "source": []
  }
 ],
 "metadata": {
  "kernelspec": {
   "display_name": "Python 3 (ipykernel)",
   "language": "python",
   "name": "python3"
  },
  "language_info": {
   "codemirror_mode": {
    "name": "ipython",
    "version": 3
   },
   "file_extension": ".py",
   "mimetype": "text/x-python",
   "name": "python",
   "nbconvert_exporter": "python",
   "pygments_lexer": "ipython3",
   "version": "3.8.10"
  }
 },
 "nbformat": 4,
 "nbformat_minor": 5
}
